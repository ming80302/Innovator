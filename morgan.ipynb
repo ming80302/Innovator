{
 "cells": [
  {
   "cell_type": "code",
   "execution_count": 1,
   "id": "46b1b61d-6037-4dac-b2b9-2b3f7bd5cf89",
   "metadata": {},
   "outputs": [],
   "source": [
    "import numpy as np\n",
    "# extract separate blocks from array according to the charactor (value), reference\n",
    "# https://stackoverflow.com/questions/31544129/extract-separate-non-zero-blocks-from-array\n",
    "def find_runs(value, arr_1d):\n",
    "    '''\n",
    "    arr_1d: 1D array to extract segments\n",
    "    value: break arr_1d according to value\n",
    "    '''\n",
    "    # Create an array that is 1 where arr_1d=value, and pad each end with an extra 0.\n",
    "    isvalue = np.concatenate(([0], np.equal(arr_1d, value).view(np.int8), [0]))\n",
    "    \n",
    "    absdiff = np.abs(np.diff(isvalue))\n",
    "   \n",
    "    # Runs start and end where absdiff is 1.\n",
    "    ranges = np.where(absdiff == 1)[0].reshape(-1, 2)\n",
    "    \n",
    "    return ranges"
   ]
  },
  {
   "cell_type": "code",
   "execution_count": 2,
   "id": "9919359c-c583-428f-a282-bbbbc59cf396",
   "metadata": {},
   "outputs": [
    {
     "name": "stdout",
     "output_type": "stream",
     "text": [
      "segmenation using threshold 3 [range(1, 4), range(6, 8), range(12, 13)]\n",
      "after removing  2 segment\n",
      "original array [  1   5   8   9   2   3   4  19   2   1   1   1 100]\n",
      "becomes [  1   5   8   9   2   3   2   1   1   1 100]\n"
     ]
    }
   ],
   "source": [
    "# original test array\n",
    "arr_org = np.array([1, 5, 8, 9, 2, 3, 4, 19, 2, 1, 1, 1, 100])\n",
    " \n",
    "# mask it as 1,0 array according to the threshold\n",
    "threshold = 3\n",
    "arr_mask = np.where(arr_org>threshold, 1, 0)\n",
    "\n",
    "# segmentation: return the range of each seg\n",
    "seg_range = [range(*runs) for runs in find_runs(1, arr_mask)]\n",
    "print('segmenation using threshold', threshold, seg_range)\n",
    "\n",
    "# remove particular segment\n",
    "id_remove = 2\n",
    "\n",
    "arr_new = np.delete(arr_org, seg_range[id_remove -1])\n",
    "print('after removing ', id_remove, 'segment')\n",
    "print('original array', arr_org)\n",
    "print('becomes', arr_new)"
   ]
  },
  {
   "cell_type": "code",
   "execution_count": null,
   "id": "2e5f1cbd-b68b-4721-aa31-28bfd44a737e",
   "metadata": {},
   "outputs": [],
   "source": []
  }
 ],
 "metadata": {
  "kernelspec": {
   "display_name": "Python [conda env:miniconda3-casper_2020]",
   "language": "python",
   "name": "conda-env-miniconda3-casper_2020-py"
  },
  "language_info": {
   "codemirror_mode": {
    "name": "ipython",
    "version": 3
   },
   "file_extension": ".py",
   "mimetype": "text/x-python",
   "name": "python",
   "nbconvert_exporter": "python",
   "pygments_lexer": "ipython3",
   "version": "3.9.6"
  }
 },
 "nbformat": 4,
 "nbformat_minor": 5
}
