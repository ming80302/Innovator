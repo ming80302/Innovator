{
 "cells": [
  {
   "cell_type": "code",
   "execution_count": 1,
   "id": "611fe3af-944e-491d-a64c-9848c5129b2c",
   "metadata": {},
   "outputs": [],
   "source": [
    "import calendar\n",
    "import numpy as np\n",
    "import xarray as xr\n",
    "import pandas as pd\n",
    "import os\n",
    " \n",
    "from datetime import timedelta, date"
   ]
  },
  {
   "cell_type": "markdown",
   "id": "45cf3158-d6fc-4c35-b747-fac2a7b01820",
   "metadata": {},
   "source": [
    "Get time series of 3 locations from PRISM dataset"
   ]
  },
  {
   "cell_type": "code",
   "execution_count": 2,
   "id": "265c9c75-8e1d-4ea1-b1bb-6a02c885e1ef",
   "metadata": {},
   "outputs": [],
   "source": [
    "# casper_2020\n",
    "# extract daily prec. Tmax and Tmin from PRISM dataset (closest/nearest grid)"
   ]
  },
  {
   "cell_type": "markdown",
   "id": "fe477378-121e-4feb-a149-751ce24d8433",
   "metadata": {},
   "source": [
    "Washington   45.5470° N, 123.1386° W\n",
    "Multnomah    45.5146° N, 122.5863° W\n",
    "Clackamas    45.4076° N, 122.5704° W"
   ]
  },
  {
   "cell_type": "code",
   "execution_count": 3,
   "id": "f5f8dd32-1e6e-405c-82f2-ec9899cf2c2a",
   "metadata": {},
   "outputs": [],
   "source": [
    "def daterange(date1, date2):\n",
    "    for n in range(int ((date2 - date1).days)+1):\n",
    "        yield date1 + timedelta(n)\n",
    "         "
   ]
  },
  {
   "cell_type": "code",
   "execution_count": 4,
   "id": "29f73476-9086-40ec-932f-65a3dbcf2db5",
   "metadata": {},
   "outputs": [],
   "source": [
    "n_loc = 3\n",
    "\n",
    "lat = np.empty(n_loc)\n",
    "lon = np.empty(n_loc)\n",
    "\n",
    "lat[0] =   45.5470\n",
    "lon[0] = -123.1386\n",
    "lat[1] =   45.5146\n",
    "lon[1] = -122.5863\n",
    "lat[2] =   45.4076\n",
    "lon[2] = -122.5704\n",
    "\n",
    "# create an 8-bit signed integer ( represents integers from -128 to 127) array\n",
    "ii = np.empty(n_loc, dtype=np.int8)\n",
    "jj = np.empty(n_loc, dtype=np.int8)\n",
    "\n",
    "year_s = 1981\n",
    "year_e = 2021\n",
    "#year_e = 1981\n",
    "\n",
    "dir_i = '/glade/campaign/mmm/c3we/prein/observations/PRISM/data/'\n"
   ]
  },
  {
   "cell_type": "code",
   "execution_count": 5,
   "id": "400cbcbf-9593-4029-82b7-284b60ae34b1",
   "metadata": {},
   "outputs": [],
   "source": [
    "#Calculate number of days between two dates\n",
    "date_s = date(year_s, 1, 1)\n",
    "date_e = date(year_e, 12, 31)\n",
    "delta = date_e - date_s\n",
    "n_day = delta.days + 1\n",
    "\n",
    "# create a range of dates list  \n",
    "yyyymmdd = [dt.strftime(\"%Y-%m-%d\") for dt in daterange(date_s, date_e)]\n",
    "\n",
    "# and then convert it to datetime      \n",
    "yyyymmdd = pd.to_datetime(yyyymmdd)\n",
    "\n",
    "\n",
    "seasons = ['DJF', 'DJF', 'MAM', 'MAM', 'MAM', 'JJA', 'JJA', 'JJA', 'SON', 'SON', 'SON', 'DJF']\n",
    "#Create a dictionary that maps a month to a season:\n",
    "month_to_season = dict(zip(range(1,13), seasons))\n",
    " \n",
    "season = yyyymmdd.month.map(month_to_season)\n",
    "\n",
    "# creat a 2D numpy array [n_day, n_loc]\n",
    "arr_2d = np.array([[0]*n_loc]*n_day, dtype=np.float32)\n"
   ]
  },
  {
   "cell_type": "code",
   "execution_count": 6,
   "id": "272e0315-5907-4cf8-809c-458c4c923956",
   "metadata": {},
   "outputs": [
    {
     "name": "stdout",
     "output_type": "stream",
     "text": [
      "/glade/campaign/mmm/c3we/prein/observations/PRISM/data/PR/PRISM_daily_ppt_1981.nc\n",
      "/glade/campaign/mmm/c3we/prein/observations/PRISM/data/PR/PRISM_daily_ppt_1982.nc\n",
      "/glade/campaign/mmm/c3we/prein/observations/PRISM/data/PR/PRISM_daily_ppt_1983.nc\n",
      "/glade/campaign/mmm/c3we/prein/observations/PRISM/data/PR/PRISM_daily_ppt_1984.nc\n",
      "/glade/campaign/mmm/c3we/prein/observations/PRISM/data/PR/PRISM_daily_ppt_1985.nc\n",
      "/glade/campaign/mmm/c3we/prein/observations/PRISM/data/PR/PRISM_daily_ppt_1986.nc\n",
      "/glade/campaign/mmm/c3we/prein/observations/PRISM/data/PR/PRISM_daily_ppt_1987.nc\n",
      "/glade/campaign/mmm/c3we/prein/observations/PRISM/data/PR/PRISM_daily_ppt_1988.nc\n",
      "/glade/campaign/mmm/c3we/prein/observations/PRISM/data/PR/PRISM_daily_ppt_1989.nc\n",
      "/glade/campaign/mmm/c3we/prein/observations/PRISM/data/PR/PRISM_daily_ppt_1990.nc\n",
      "/glade/campaign/mmm/c3we/prein/observations/PRISM/data/PR/PRISM_daily_ppt_1991.nc\n",
      "/glade/campaign/mmm/c3we/prein/observations/PRISM/data/PR/PRISM_daily_ppt_1992.nc\n",
      "/glade/campaign/mmm/c3we/prein/observations/PRISM/data/PR/PRISM_daily_ppt_1993.nc\n",
      "/glade/campaign/mmm/c3we/prein/observations/PRISM/data/PR/PRISM_daily_ppt_1994.nc\n",
      "/glade/campaign/mmm/c3we/prein/observations/PRISM/data/PR/PRISM_daily_ppt_1995.nc\n",
      "/glade/campaign/mmm/c3we/prein/observations/PRISM/data/PR/PRISM_daily_ppt_1996.nc\n",
      "/glade/campaign/mmm/c3we/prein/observations/PRISM/data/PR/PRISM_daily_ppt_1997.nc\n",
      "/glade/campaign/mmm/c3we/prein/observations/PRISM/data/PR/PRISM_daily_ppt_1998.nc\n",
      "/glade/campaign/mmm/c3we/prein/observations/PRISM/data/PR/PRISM_daily_ppt_1999.nc\n",
      "/glade/campaign/mmm/c3we/prein/observations/PRISM/data/PR/PRISM_daily_ppt_2000.nc\n",
      "/glade/campaign/mmm/c3we/prein/observations/PRISM/data/PR/PRISM_daily_ppt_2001.nc\n",
      "/glade/campaign/mmm/c3we/prein/observations/PRISM/data/PR/PRISM_daily_ppt_2002.nc\n",
      "/glade/campaign/mmm/c3we/prein/observations/PRISM/data/PR/PRISM_daily_ppt_2003.nc\n",
      "/glade/campaign/mmm/c3we/prein/observations/PRISM/data/PR/PRISM_daily_ppt_2004.nc\n",
      "/glade/campaign/mmm/c3we/prein/observations/PRISM/data/PR/PRISM_daily_ppt_2005.nc\n",
      "/glade/campaign/mmm/c3we/prein/observations/PRISM/data/PR/PRISM_daily_ppt_2006.nc\n",
      "/glade/campaign/mmm/c3we/prein/observations/PRISM/data/PR/PRISM_daily_ppt_2007.nc\n",
      "/glade/campaign/mmm/c3we/prein/observations/PRISM/data/PR/PRISM_daily_ppt_2008.nc\n",
      "/glade/campaign/mmm/c3we/prein/observations/PRISM/data/PR/PRISM_daily_ppt_2009.nc\n",
      "/glade/campaign/mmm/c3we/prein/observations/PRISM/data/PR/PRISM_daily_ppt_2010.nc\n",
      "/glade/campaign/mmm/c3we/prein/observations/PRISM/data/PR/PRISM_daily_ppt_2011.nc\n",
      "/glade/campaign/mmm/c3we/prein/observations/PRISM/data/PR/PRISM_daily_ppt_2012.nc\n",
      "/glade/campaign/mmm/c3we/prein/observations/PRISM/data/PR/PRISM_daily_ppt_2013.nc\n",
      "/glade/campaign/mmm/c3we/prein/observations/PRISM/data/PR/PRISM_daily_ppt_2014.nc\n",
      "/glade/campaign/mmm/c3we/prein/observations/PRISM/data/PR/PRISM_daily_ppt_2015.nc\n",
      "/glade/campaign/mmm/c3we/prein/observations/PRISM/data/PR/PRISM_daily_ppt_2016.nc\n",
      "/glade/campaign/mmm/c3we/prein/observations/PRISM/data/PR/PRISM_daily_ppt_2017.nc\n",
      "/glade/campaign/mmm/c3we/prein/observations/PRISM/data/PR/PRISM_daily_ppt_2018.nc\n",
      "/glade/campaign/mmm/c3we/prein/observations/PRISM/data/PR/PRISM_daily_ppt_2019.nc\n",
      "/glade/campaign/mmm/c3we/prein/observations/PRISM/data/PR/PRISM_daily_ppt_2020.nc\n",
      "/glade/campaign/mmm/c3we/prein/observations/PRISM/data/PR/PRISM_daily_ppt_2021.nc\n",
      "/glade/campaign/mmm/c3we/INNOVATOR/PR_1981-2021.csv\n"
     ]
    }
   ],
   "source": [
    "# Find the nearest latitude and longitude grid for a point\n",
    "#  (45.54,-123.1), (45.5,-122.6), (45.42, -122.6)\n",
    "with xr.open_dataset('/glade/campaign/mmm/c3we/prein/observations/PRISM/data/PR/PRISM_daily_ppt_1981.nc') as ds_prism:\n",
    "        lat_2d = ds_prism.lat.values\n",
    "        lon_2d = ds_prism.lon.values\n",
    "        \n",
    "        for count in range(0, n_loc):\n",
    "            a = np.abs(lat_2d-lat[count] ) + np.abs(lon_2d-lon[count] )\n",
    "            ii[count],jj[count] = np.unravel_index(a.argmin(), a.shape)\n",
    "\n",
    "var_s = \"PR\"\n",
    "#var_s = \"Tmax\"\n",
    "#var_s = \"Tmin\"\n",
    "\n",
    "ct_s = 0\n",
    "for year in range(year_s, year_e+1, 1):\n",
    "    \n",
    "    if var_s == 'PR':\n",
    "        flnm_prism = dir_i + var_s + '/PRISM_daily_ppt_'+ str(year) + '.nc'\n",
    "    else:    \n",
    "         flnm_prism = dir_i + var_s + '/PRISM_daily_' + var_s.lower() + '_'+ str(year) + '.nc'\n",
    "    with xr.open_dataset(flnm_prism ) as ds_prism:\n",
    "        print(flnm_prism)\n",
    "        for count in range(0, n_loc):\n",
    "            # get variable names\n",
    "            data_3d = ds_prism.data_vars \n",
    "            \n",
    "            data_1d = data_3d[var_s][:, ii[count],jj[count]]\n",
    "            if count == 0:\n",
    "                ct_e = ct_s + len(data_1d) \n",
    "            \n",
    "            arr_2d[ct_s:ct_e,count] = data_1d\n",
    "            \n",
    "        #print(ct_s,ct_e)\n",
    "        ct_s = ct_e \n",
    "\n",
    "flnm_o = '/glade/campaign/mmm/c3we/INNOVATOR/' + var_s + '_1981-2021.csv'        \n",
    "print(flnm_o)        \n",
    "\n",
    "\n",
    "data = {'date':yyyymmdd, 'year':yyyymmdd.year, 'season':yyyymmdd.month.map(month_to_season),'Washington':arr_2d[:,0], 'Multnomah':arr_2d[:,1], 'Clackamas':arr_2d[:,2]}\n",
    "df = pd.DataFrame(data) \n",
    "\n",
    "df.to_csv(flnm_o,index=False)  \n",
    " \n"
   ]
  },
  {
   "cell_type": "markdown",
   "id": "74b962fe-4c28-4ca1-8d9e-0b6de31aeccd",
   "metadata": {},
   "source": [
    "####### finished"
   ]
  },
  {
   "cell_type": "code",
   "execution_count": null,
   "id": "0964ef69-8bab-44a7-8c3f-571c5fe8345a",
   "metadata": {},
   "outputs": [],
   "source": []
  },
  {
   "cell_type": "code",
   "execution_count": null,
   "id": "9150fbe4-52f0-42ae-bab3-53002f24ab85",
   "metadata": {},
   "outputs": [],
   "source": []
  },
  {
   "cell_type": "code",
   "execution_count": null,
   "id": "9c9319f0-4992-4181-8d84-0f898a9925c1",
   "metadata": {},
   "outputs": [],
   "source": []
  },
  {
   "cell_type": "code",
   "execution_count": null,
   "id": "9c495d7a-9f6e-40f3-b79f-bea52066af52",
   "metadata": {},
   "outputs": [],
   "source": [
    "#original write csv file\n",
    "flnm_o = '/glade/campaign/mmm/c3we/INNOVATOR/' + var_s + '_1981-2021.csv'        \n",
    "print(flnm_o)        \n",
    "np.savetxt(flnm_o, arr_2d,  fmt='%.3f', delimiter=',')\n",
    " \n",
    "#add a header    \n",
    "cmd_sed = 'sed -i \"1i Washington,Multnomah,Clackamas\" flnm_o'    \n",
    "cmd_sed = cmd_sed.replace(\"flnm_o\", flnm_o)\n",
    "print(cmd_sed)\n",
    "os.system(cmd_sed)"
   ]
  },
  {
   "cell_type": "code",
   "execution_count": 16,
   "id": "b3c0ee51-eb66-4adb-a1d0-093a6fc904c2",
   "metadata": {},
   "outputs": [
    {
     "name": "stdout",
     "output_type": "stream",
     "text": [
      "/glade/campaign/mmm/c3we/prein/observations/PRISM/data/PR/PRISM_daily_ppt_1981.nc\n"
     ]
    },
    {
     "data": {
      "text/plain": [
       "0"
      ]
     },
     "execution_count": 16,
     "metadata": {},
     "output_type": "execute_result"
    }
   ],
   "source": [
    "# the same as previous \" the nearest latitude and longitude grid \"\n",
    "\n",
    "ct_s = 0\n",
    "for year in range(year_s, year_e+1, 1):\n",
    "    flnm_prism = dir_i + 'PR/PRISM_daily_ppt_'+ str(year) + '.nc'\n",
    "    with xr.open_dataset(flnm_prism ) as ds_prism:\n",
    "        print(flnm_prism)\n",
    "        for count in range(0, n_loc):\n",
    "            data_1d = ds_prism.PR.sel(rlat=lat[count], rlon=lon[count], method='nearest')\n",
    "            \n",
    "            if count == 0:\n",
    "                ct_e = ct_s + len(data_1d) \n",
    "            \n",
    "            arr_2d[ct_s:ct_e,count] = data_1d\n",
    "            \n",
    "        #print(ct_s,ct_e)\n",
    "        ct_s = ct_e \n",
    "\n",
    "np.savetxt('pr_1981-2021.csv', arr_2d,  fmt='%.3f', delimiter=',')\n",
    " \n",
    "# add a header \n",
    "os.system(\"sed -i '1i Washington,Multnomah,Clackamas' pr_1981-2021.csv\") \n",
    " "
   ]
  },
  {
   "cell_type": "code",
   "execution_count": null,
   "id": "3835d75b-a57e-4804-a05f-0dfbdc6241c1",
   "metadata": {},
   "outputs": [],
   "source": []
  },
  {
   "cell_type": "code",
   "execution_count": null,
   "id": "0a0134da-f311-46d1-bbb4-3aa5ae412254",
   "metadata": {},
   "outputs": [],
   "source": []
  },
  {
   "cell_type": "code",
   "execution_count": null,
   "id": "b6f29e9b-8c1d-44f7-8078-16b2c4f65579",
   "metadata": {},
   "outputs": [],
   "source": []
  },
  {
   "cell_type": "code",
   "execution_count": null,
   "id": "1a362ce2-b3cf-4a45-b3e5-cb4037868520",
   "metadata": {},
   "outputs": [],
   "source": []
  }
 ],
 "metadata": {
  "kernelspec": {
   "display_name": "Python [conda env:miniconda3-casper_2020]",
   "language": "python",
   "name": "conda-env-miniconda3-casper_2020-py"
  },
  "language_info": {
   "codemirror_mode": {
    "name": "ipython",
    "version": 3
   },
   "file_extension": ".py",
   "mimetype": "text/x-python",
   "name": "python",
   "nbconvert_exporter": "python",
   "pygments_lexer": "ipython3",
   "version": "3.9.6"
  }
 },
 "nbformat": 4,
 "nbformat_minor": 5
}
