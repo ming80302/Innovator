{
  "nbformat": 4,
  "nbformat_minor": 0,
  "metadata": {
    "colab": {
      "name": "case_veri_innovator.ipynb",
      "provenance": [],
      "mount_file_id": "1g42fTcKYpFU0Ee0ggp6PCT9eBzH8cl-R",
      "authorship_tag": "ABX9TyNQEDY6WNXa6DPg48AdEZ8L",
      "include_colab_link": true
    },
    "kernelspec": {
      "name": "python3",
      "display_name": "Python 3"
    },
    "language_info": {
      "name": "python"
    }
  },
  "cells": [
    {
      "cell_type": "markdown",
      "metadata": {
        "id": "view-in-github",
        "colab_type": "text"
      },
      "source": [
        "<a href=\"https://colab.research.google.com/github/ming80302/Innovator/blob/main/case_veri_innovator.ipynb\" target=\"_parent\"><img src=\"https://colab.research.google.com/assets/colab-badge.svg\" alt=\"Open In Colab\"/></a>"
      ]
    },
    {
      "cell_type": "code",
      "execution_count": 62,
      "metadata": {
        "id": "eGLO-FLSkjvr"
      },
      "outputs": [],
      "source": [
        "!apt-get install -qq libgdal-dev libproj-dev\n",
        "\n",
        "import datetime\n",
        "import calendar\n",
        "#from netCDF4 import Dataset\n",
        "import numpy as np\n",
        "import xarray as xr\n",
        "import pandas as pd\n",
        " "
      ]
    },
    {
      "cell_type": "code",
      "source": [
        "from google.colab import drive\n",
        "drive.mount('/content/drive')"
      ],
      "metadata": {
        "colab": {
          "base_uri": "https://localhost:8080/"
        },
        "id": "DR2W0JghF9Tn",
        "outputId": "b904b180-de29-4be1-9339-69d1bcb1f4d2"
      },
      "execution_count": 63,
      "outputs": [
        {
          "output_type": "stream",
          "name": "stdout",
          "text": [
            "Drive already mounted at /content/drive; to attempt to forcibly remount, call drive.mount(\"/content/drive\", force_remount=True).\n"
          ]
        }
      ]
    },
    {
      "cell_type": "code",
      "source": [
        ""
      ],
      "metadata": {
        "id": "ivwDhI9rcown"
      },
      "execution_count": null,
      "outputs": []
    },
    {
      "cell_type": "markdown",
      "source": [
        "OBS data is from ttps://mesowest.utah.edu/.  <br>\n",
        "from  Data API Services download 'weather condition data'. <br>\n",
        "KPDX.2021-02-18.csv, KHIO.2021-02-18.csv, KTTD.2021-02-18.csv"
      ],
      "metadata": {
        "id": "J_y2QHrfMIbK"
      }
    },
    {
      "cell_type": "code",
      "source": [
        "station = ['KPDX',      'KHIO',     'KTTD']\n",
        "lat     = [45.59578,    45.54765,   45.55111]\n",
        "lon     = [-122.60917, -122.95568, -122.40889]\n",
        "wc_KTTD = [\"light frz rain\",\"light snow\",\"light snow\",\"light frz rain\",\"light frz rain\", \"light rain\",\"light rain\"]\n",
        "wc_KHIO = [\"light snow\",\"light snow\",\"light snow,mist\",\"light snow,mist\",\"unknown precip,mist\",\"light rain\",\"light rain\"]\n",
        "wc_KPDX = [\"light rain->light snow\",\"light snow\",\"light snow\",\"light frz rain,light snow\",\"light frz rain\",\"light rain\",\"light rain\"]\n",
        "lat = np.asarray(lat)\n",
        "lon = np.asarray(lon)\n",
        "stationdict  = {'KPDX':wc_KPDX,'KHIO':wc_KHIO ,'KTTD': wc_KTTD } "
      ],
      "metadata": {
        "id": "OKappd9jcvGE"
      },
      "execution_count": 64,
      "outputs": []
    },
    {
      "cell_type": "code",
      "source": [
        "dir_prism = '/content/drive/MyDrive/data/PRISM/'\n",
        "date_st  = '2021-02-11'\n",
        "date_end = '2021-02-17'\n",
        "date_s = pd.date_range(date_st, date_end, freq='D').format(formatter=lambda x: x.strftime('%Y%m%d'))\n",
        "data = {'date': date_s}\n",
        "df = pd.DataFrame(data) \n",
        " \n",
        "ds = xr.open_dataset(dir_prism + 'PRISM_daily_tmin_2021.nc')\n",
        "\n",
        "for nn in range(len(lat)):\n",
        "  tmin_1d = ds.sel(time=slice(date_st, date_end)).sel(rlat=lat[nn], rlon=lon[nn], method = 'nearest').Tmin\n",
        "  df[station[nn]+' prism']=tmin_1d\n",
        "  df[station[nn]] = stationdict[station[nn]] \n",
        "\n",
        "df"
      ],
      "metadata": {
        "colab": {
          "base_uri": "https://localhost:8080/",
          "height": 269
        },
        "id": "rC9DMk3rdfd1",
        "outputId": "26868a86-6135-4ed1-f65e-561b019469bb"
      },
      "execution_count": 61,
      "outputs": [
        {
          "output_type": "execute_result",
          "data": {
            "text/plain": [
              "       date  KPDX prism                       KPDX  KHIO prism  \\\n",
              "0  20210211      1.1164     light rain->light snow      0.2028   \n",
              "1  20210212     -2.1862                 light snow     -2.1104   \n",
              "2  20210213     -4.2773                 light snow     -3.8460   \n",
              "3  20210214     -4.1643  light frz rain,light snow     -4.0535   \n",
              "4  20210215     -2.4835             light frz rain     -1.9913   \n",
              "5  20210216     -1.0617                 light rain      0.4745   \n",
              "6  20210217      2.9419                 light rain      1.3782   \n",
              "\n",
              "                  KHIO  KTTD prism            KTTD  \n",
              "0           light snow      1.4159  light frz rain  \n",
              "1           light snow     -2.4279      light snow  \n",
              "2      light snow,mist     -4.6868      light snow  \n",
              "3      light snow,mist     -4.6098  light frz rain  \n",
              "4  unknown precip,mist     -2.9879  light frz rain  \n",
              "5           light rain     -1.4049      light rain  \n",
              "6           light rain      3.2174      light rain  "
            ],
            "text/html": [
              "\n",
              "  <div id=\"df-71847f70-5869-4e34-857c-2c27278eed32\">\n",
              "    <div class=\"colab-df-container\">\n",
              "      <div>\n",
              "<style scoped>\n",
              "    .dataframe tbody tr th:only-of-type {\n",
              "        vertical-align: middle;\n",
              "    }\n",
              "\n",
              "    .dataframe tbody tr th {\n",
              "        vertical-align: top;\n",
              "    }\n",
              "\n",
              "    .dataframe thead th {\n",
              "        text-align: right;\n",
              "    }\n",
              "</style>\n",
              "<table border=\"1\" class=\"dataframe\">\n",
              "  <thead>\n",
              "    <tr style=\"text-align: right;\">\n",
              "      <th></th>\n",
              "      <th>date</th>\n",
              "      <th>KPDX prism</th>\n",
              "      <th>KPDX</th>\n",
              "      <th>KHIO prism</th>\n",
              "      <th>KHIO</th>\n",
              "      <th>KTTD prism</th>\n",
              "      <th>KTTD</th>\n",
              "    </tr>\n",
              "  </thead>\n",
              "  <tbody>\n",
              "    <tr>\n",
              "      <th>0</th>\n",
              "      <td>20210211</td>\n",
              "      <td>1.1164</td>\n",
              "      <td>light rain-&gt;light snow</td>\n",
              "      <td>0.2028</td>\n",
              "      <td>light snow</td>\n",
              "      <td>1.4159</td>\n",
              "      <td>light frz rain</td>\n",
              "    </tr>\n",
              "    <tr>\n",
              "      <th>1</th>\n",
              "      <td>20210212</td>\n",
              "      <td>-2.1862</td>\n",
              "      <td>light snow</td>\n",
              "      <td>-2.1104</td>\n",
              "      <td>light snow</td>\n",
              "      <td>-2.4279</td>\n",
              "      <td>light snow</td>\n",
              "    </tr>\n",
              "    <tr>\n",
              "      <th>2</th>\n",
              "      <td>20210213</td>\n",
              "      <td>-4.2773</td>\n",
              "      <td>light snow</td>\n",
              "      <td>-3.8460</td>\n",
              "      <td>light snow,mist</td>\n",
              "      <td>-4.6868</td>\n",
              "      <td>light snow</td>\n",
              "    </tr>\n",
              "    <tr>\n",
              "      <th>3</th>\n",
              "      <td>20210214</td>\n",
              "      <td>-4.1643</td>\n",
              "      <td>light frz rain,light snow</td>\n",
              "      <td>-4.0535</td>\n",
              "      <td>light snow,mist</td>\n",
              "      <td>-4.6098</td>\n",
              "      <td>light frz rain</td>\n",
              "    </tr>\n",
              "    <tr>\n",
              "      <th>4</th>\n",
              "      <td>20210215</td>\n",
              "      <td>-2.4835</td>\n",
              "      <td>light frz rain</td>\n",
              "      <td>-1.9913</td>\n",
              "      <td>unknown precip,mist</td>\n",
              "      <td>-2.9879</td>\n",
              "      <td>light frz rain</td>\n",
              "    </tr>\n",
              "    <tr>\n",
              "      <th>5</th>\n",
              "      <td>20210216</td>\n",
              "      <td>-1.0617</td>\n",
              "      <td>light rain</td>\n",
              "      <td>0.4745</td>\n",
              "      <td>light rain</td>\n",
              "      <td>-1.4049</td>\n",
              "      <td>light rain</td>\n",
              "    </tr>\n",
              "    <tr>\n",
              "      <th>6</th>\n",
              "      <td>20210217</td>\n",
              "      <td>2.9419</td>\n",
              "      <td>light rain</td>\n",
              "      <td>1.3782</td>\n",
              "      <td>light rain</td>\n",
              "      <td>3.2174</td>\n",
              "      <td>light rain</td>\n",
              "    </tr>\n",
              "  </tbody>\n",
              "</table>\n",
              "</div>\n",
              "      <button class=\"colab-df-convert\" onclick=\"convertToInteractive('df-71847f70-5869-4e34-857c-2c27278eed32')\"\n",
              "              title=\"Convert this dataframe to an interactive table.\"\n",
              "              style=\"display:none;\">\n",
              "        \n",
              "  <svg xmlns=\"http://www.w3.org/2000/svg\" height=\"24px\"viewBox=\"0 0 24 24\"\n",
              "       width=\"24px\">\n",
              "    <path d=\"M0 0h24v24H0V0z\" fill=\"none\"/>\n",
              "    <path d=\"M18.56 5.44l.94 2.06.94-2.06 2.06-.94-2.06-.94-.94-2.06-.94 2.06-2.06.94zm-11 1L8.5 8.5l.94-2.06 2.06-.94-2.06-.94L8.5 2.5l-.94 2.06-2.06.94zm10 10l.94 2.06.94-2.06 2.06-.94-2.06-.94-.94-2.06-.94 2.06-2.06.94z\"/><path d=\"M17.41 7.96l-1.37-1.37c-.4-.4-.92-.59-1.43-.59-.52 0-1.04.2-1.43.59L10.3 9.45l-7.72 7.72c-.78.78-.78 2.05 0 2.83L4 21.41c.39.39.9.59 1.41.59.51 0 1.02-.2 1.41-.59l7.78-7.78 2.81-2.81c.8-.78.8-2.07 0-2.86zM5.41 20L4 18.59l7.72-7.72 1.47 1.35L5.41 20z\"/>\n",
              "  </svg>\n",
              "      </button>\n",
              "      \n",
              "  <style>\n",
              "    .colab-df-container {\n",
              "      display:flex;\n",
              "      flex-wrap:wrap;\n",
              "      gap: 12px;\n",
              "    }\n",
              "\n",
              "    .colab-df-convert {\n",
              "      background-color: #E8F0FE;\n",
              "      border: none;\n",
              "      border-radius: 50%;\n",
              "      cursor: pointer;\n",
              "      display: none;\n",
              "      fill: #1967D2;\n",
              "      height: 32px;\n",
              "      padding: 0 0 0 0;\n",
              "      width: 32px;\n",
              "    }\n",
              "\n",
              "    .colab-df-convert:hover {\n",
              "      background-color: #E2EBFA;\n",
              "      box-shadow: 0px 1px 2px rgba(60, 64, 67, 0.3), 0px 1px 3px 1px rgba(60, 64, 67, 0.15);\n",
              "      fill: #174EA6;\n",
              "    }\n",
              "\n",
              "    [theme=dark] .colab-df-convert {\n",
              "      background-color: #3B4455;\n",
              "      fill: #D2E3FC;\n",
              "    }\n",
              "\n",
              "    [theme=dark] .colab-df-convert:hover {\n",
              "      background-color: #434B5C;\n",
              "      box-shadow: 0px 1px 3px 1px rgba(0, 0, 0, 0.15);\n",
              "      filter: drop-shadow(0px 1px 2px rgba(0, 0, 0, 0.3));\n",
              "      fill: #FFFFFF;\n",
              "    }\n",
              "  </style>\n",
              "\n",
              "      <script>\n",
              "        const buttonEl =\n",
              "          document.querySelector('#df-71847f70-5869-4e34-857c-2c27278eed32 button.colab-df-convert');\n",
              "        buttonEl.style.display =\n",
              "          google.colab.kernel.accessAllowed ? 'block' : 'none';\n",
              "\n",
              "        async function convertToInteractive(key) {\n",
              "          const element = document.querySelector('#df-71847f70-5869-4e34-857c-2c27278eed32');\n",
              "          const dataTable =\n",
              "            await google.colab.kernel.invokeFunction('convertToInteractive',\n",
              "                                                     [key], {});\n",
              "          if (!dataTable) return;\n",
              "\n",
              "          const docLinkHtml = 'Like what you see? Visit the ' +\n",
              "            '<a target=\"_blank\" href=https://colab.research.google.com/notebooks/data_table.ipynb>data table notebook</a>'\n",
              "            + ' to learn more about interactive tables.';\n",
              "          element.innerHTML = '';\n",
              "          dataTable['output_type'] = 'display_data';\n",
              "          await google.colab.output.renderOutput(dataTable, element);\n",
              "          const docLink = document.createElement('div');\n",
              "          docLink.innerHTML = docLinkHtml;\n",
              "          element.appendChild(docLink);\n",
              "        }\n",
              "      </script>\n",
              "    </div>\n",
              "  </div>\n",
              "  "
            ]
          },
          "metadata": {},
          "execution_count": 61
        }
      ]
    }
  ]
}