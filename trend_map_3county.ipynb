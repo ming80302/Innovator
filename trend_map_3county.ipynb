{
 "cells": [
  {
   "cell_type": "markdown",
   "id": "7b68f20b-5ce5-48e3-a1c2-84a9aee08740",
   "metadata": {
    "tags": []
   },
   "source": [
    "#### Map of trend (slope) 1979-2022 of:\n",
    " - Annual max Tmax  (units C/decade)\n",
    " - Annual number of days of frozen precip (units days)\n",
    " \n",
    " https://en.wikipedia.org/wiki/List_of_counties_in_Oregon\n",
    "casper_2020"
   ]
  },
  {
   "cell_type": "code",
   "execution_count": 1,
   "id": "ba30cd79-e1d3-4ab2-b5e7-4d2fd78d34b0",
   "metadata": {},
   "outputs": [],
   "source": [
    "import calendar\n",
    "import numpy as np\n",
    "import xarray as xr\n",
    "import pandas as pd\n",
    "import geopandas as gpd\n",
    "import matplotlib.pyplot as plt \n",
    "from datetime import timedelta, date\n",
    "import mapclassify as mc\n",
    "import geoplot as gplt"
   ]
  },
  {
   "cell_type": "code",
   "execution_count": 2,
   "id": "3828bcd4-e66c-4130-a347-69c72e27f64c",
   "metadata": {},
   "outputs": [],
   "source": [
    "def rd_ts(dir_i, var_s): \n",
    "    '''\n",
    "    read time series data from a csv file\n",
    "    and return a DataFrame\n",
    "    '''\n",
    "    flnm = dir_i + var_s + \"_1981-2021.csv\"\n",
    "    print('read in ', flnm)\n",
    " \n",
    "    df = pd.read_csv(flnm)\n",
    "\n",
    "    # convert date column to DateTime\n",
    "    df['date'] = pd.to_datetime(df.date)\n",
    "\n",
    "    # note: convert index to DatetimeIndex so I can use groupby year later on\n",
    "    df.index =  pd.to_datetime(df.date)\n",
    "    \n",
    "    return df\n",
    "\n",
    "def cal_trend_huc2_1d(arr_2d):\n",
    "    '''\n",
    "    arr_2d(year, n_shp) \n",
    "    calculate trend of 2D array\n",
    "    '''\n",
    "    \n",
    "    n_shp = arr_2d.shape[1]\n",
    "    trend_1d = np.zeros(n_shp)\n",
    "\n",
    "    for nr in range(n_shp):\n",
    "        arr_1d = arr_2d[:,nr]\n",
    "        # first degree polynomial. linear regression \n",
    "        trend_1d[nr] = np.polyfit(range(len(arr_1d)), arr_1d,1)[0]\n",
    "    return trend_1d"
   ]
  },
  {
   "cell_type": "markdown",
   "id": "ac8f95ea-617d-4484-9a29-b6ff6a26efc0",
   "metadata": {},
   "source": [
    "#### read csv time-series files"
   ]
  },
  {
   "cell_type": "code",
   "execution_count": 3,
   "id": "4c3d77e1-8987-4ea6-b237-cca0485a1345",
   "metadata": {},
   "outputs": [
    {
     "name": "stdout",
     "output_type": "stream",
     "text": [
      "read in  /glade/campaign/mmm/c3we/mingge/INNOVATOR/DATA/Tmax_1981-2021.csv\n",
      "read in  /glade/campaign/mmm/c3we/mingge/INNOVATOR/DATA/Tmin_1981-2021.csv\n",
      "read in  /glade/campaign/mmm/c3we/mingge/INNOVATOR/DATA/PR_1981-2021.csv\n",
      "columns are: Index(['date', 'year', 'season', 'Clackamas', 'Columbia', 'Multmomah',\n",
      "       'Washington', 'Yamhill'],\n",
      "      dtype='object')\n"
     ]
    }
   ],
   "source": [
    "dir_i = '/glade/campaign/mmm/c3we/mingge/INNOVATOR/DATA/'\n",
    "\n",
    "df_tmax = rd_ts(dir_i, 'Tmax')\n",
    "df_tmin = rd_ts(dir_i, 'Tmin')\n",
    "df_prec = rd_ts(dir_i, 'PR')\n",
    "\n",
    "year_s = df_tmax.year[0]\n",
    "year_e = df_tmax.year[-1]\n",
    "\n",
    "# get column name by df.columns\n",
    "name_col = df_tmax.columns\n",
    "print('columns are:', name_col)"
   ]
  },
  {
   "cell_type": "markdown",
   "id": "2208d670-4112-409e-824c-796e19770e1c",
   "metadata": {},
   "source": [
    "#### read shapefile and pick/merge 3 counties"
   ]
  },
  {
   "cell_type": "code",
   "execution_count": 4,
   "id": "fa2f68b1-71b2-4f1d-8a6e-53c342c37ee1",
   "metadata": {},
   "outputs": [
    {
     "name": "stderr",
     "output_type": "stream",
     "text": [
      "/glade/scratch/mingge/ipykernel_295627/2910250391.py:19: UserWarning: Geometry is in a geographic CRS. Results from 'centroid' are likely incorrect. Use 'GeoSeries.to_crs()' to re-project geometries to a projected CRS before this operation.\n",
      "\n",
      "  new_gpd['lon_centroid'] = new_gpd.centroid.x\n",
      "/glade/scratch/mingge/ipykernel_295627/2910250391.py:20: UserWarning: Geometry is in a geographic CRS. Results from 'centroid' are likely incorrect. Use 'GeoSeries.to_crs()' to re-project geometries to a projected CRS before this operation.\n",
      "\n",
      "  new_gpd['lat_centroid'] = new_gpd.centroid.y\n"
     ]
    },
    {
     "data": {
      "text/html": [
       "<div>\n",
       "<style scoped>\n",
       "    .dataframe tbody tr th:only-of-type {\n",
       "        vertical-align: middle;\n",
       "    }\n",
       "\n",
       "    .dataframe tbody tr th {\n",
       "        vertical-align: top;\n",
       "    }\n",
       "\n",
       "    .dataframe thead th {\n",
       "        text-align: right;\n",
       "    }\n",
       "</style>\n",
       "<table border=\"1\" class=\"dataframe\">\n",
       "  <thead>\n",
       "    <tr style=\"text-align: right;\">\n",
       "      <th></th>\n",
       "      <th>ID</th>\n",
       "      <th>STFID</th>\n",
       "      <th>COUNTY</th>\n",
       "      <th>TAPERSONS</th>\n",
       "      <th>TA1RACE</th>\n",
       "      <th>TAWHITE</th>\n",
       "      <th>TABLACK</th>\n",
       "      <th>TAAMERIND</th>\n",
       "      <th>TAASIAN</th>\n",
       "      <th>TAHAWPAC</th>\n",
       "      <th>...</th>\n",
       "      <th>TN4RACES</th>\n",
       "      <th>TN5RACES</th>\n",
       "      <th>TN6RACES</th>\n",
       "      <th>ALLAFAM</th>\n",
       "      <th>ALLAMIND</th>\n",
       "      <th>ALLASIAN</th>\n",
       "      <th>ALLNHPI</th>\n",
       "      <th>geometry</th>\n",
       "      <th>lon_centroid</th>\n",
       "      <th>lat_centroid</th>\n",
       "    </tr>\n",
       "  </thead>\n",
       "  <tbody>\n",
       "    <tr>\n",
       "      <th>2</th>\n",
       "      <td>1</td>\n",
       "      <td>41005</td>\n",
       "      <td>005</td>\n",
       "      <td>338391</td>\n",
       "      <td>330061</td>\n",
       "      <td>308852</td>\n",
       "      <td>2233</td>\n",
       "      <td>2416</td>\n",
       "      <td>8292</td>\n",
       "      <td>569</td>\n",
       "      <td>...</td>\n",
       "      <td>38</td>\n",
       "      <td>18</td>\n",
       "      <td>0</td>\n",
       "      <td>3497</td>\n",
       "      <td>5256</td>\n",
       "      <td>10921</td>\n",
       "      <td>1348</td>\n",
       "      <td>POLYGON ((-122.63724 45.46112, -122.63650 45.4...</td>\n",
       "      <td>-122.221525</td>\n",
       "      <td>45.188663</td>\n",
       "    </tr>\n",
       "    <tr>\n",
       "      <th>25</th>\n",
       "      <td>1</td>\n",
       "      <td>41051</td>\n",
       "      <td>051</td>\n",
       "      <td>660486</td>\n",
       "      <td>633622</td>\n",
       "      <td>522825</td>\n",
       "      <td>37434</td>\n",
       "      <td>6785</td>\n",
       "      <td>37638</td>\n",
       "      <td>2320</td>\n",
       "      <td>...</td>\n",
       "      <td>101</td>\n",
       "      <td>35</td>\n",
       "      <td>0</td>\n",
       "      <td>44755</td>\n",
       "      <td>14701</td>\n",
       "      <td>45012</td>\n",
       "      <td>4419</td>\n",
       "      <td>POLYGON ((-122.85432 45.59182, -122.85670 45.5...</td>\n",
       "      <td>-122.415730</td>\n",
       "      <td>45.546896</td>\n",
       "    </tr>\n",
       "    <tr>\n",
       "      <th>33</th>\n",
       "      <td>1</td>\n",
       "      <td>41067</td>\n",
       "      <td>067</td>\n",
       "      <td>445342</td>\n",
       "      <td>431216</td>\n",
       "      <td>366007</td>\n",
       "      <td>5119</td>\n",
       "      <td>2913</td>\n",
       "      <td>29752</td>\n",
       "      <td>1325</td>\n",
       "      <td>...</td>\n",
       "      <td>37</td>\n",
       "      <td>6</td>\n",
       "      <td>1</td>\n",
       "      <td>7307</td>\n",
       "      <td>6183</td>\n",
       "      <td>35197</td>\n",
       "      <td>2876</td>\n",
       "      <td>POLYGON ((-122.78711 45.54843, -122.78481 45.5...</td>\n",
       "      <td>-123.098537</td>\n",
       "      <td>45.560109</td>\n",
       "    </tr>\n",
       "  </tbody>\n",
       "</table>\n",
       "<p>3 rows × 38 columns</p>\n",
       "</div>"
      ],
      "text/plain": [
       "    ID  STFID COUNTY  TAPERSONS  TA1RACE  TAWHITE  TABLACK  TAAMERIND  \\\n",
       "2    1  41005    005     338391   330061   308852     2233       2416   \n",
       "25   1  41051    051     660486   633622   522825    37434       6785   \n",
       "33   1  41067    067     445342   431216   366007     5119       2913   \n",
       "\n",
       "    TAASIAN  TAHAWPAC  ...  TN4RACES  TN5RACES  TN6RACES  ALLAFAM  ALLAMIND  \\\n",
       "2      8292       569  ...        38        18         0     3497      5256   \n",
       "25    37638      2320  ...       101        35         0    44755     14701   \n",
       "33    29752      1325  ...        37         6         1     7307      6183   \n",
       "\n",
       "    ALLASIAN  ALLNHPI                                           geometry  \\\n",
       "2      10921     1348  POLYGON ((-122.63724 45.46112, -122.63650 45.4...   \n",
       "25     45012     4419  POLYGON ((-122.85432 45.59182, -122.85670 45.5...   \n",
       "33     35197     2876  POLYGON ((-122.78711 45.54843, -122.78481 45.5...   \n",
       "\n",
       "    lon_centroid  lat_centroid  \n",
       "2    -122.221525     45.188663  \n",
       "25   -122.415730     45.546896  \n",
       "33   -123.098537     45.560109  \n",
       "\n",
       "[3 rows x 38 columns]"
      ]
     },
     "execution_count": 4,
     "metadata": {},
     "output_type": "execute_result"
    }
   ],
   "source": [
    "flnm_shp = '/glade/work/mingge/SHAPEFILES/counties.shp'\n",
    "shp_gpd = gpd.read_file(flnm_shp)\n",
    " \n",
    "# Clackamas 005 2;  Multnomah 051 25; Washington 067 33\n",
    "id_s = ['005', '051', '067']\n",
    "n_county = len(id_s)\n",
    "\n",
    "## Merging Data: Appending DataFrames\n",
    "gdf1 = shp_gpd[shp_gpd.COUNTY == id_s[0]]\n",
    "gdf2 = shp_gpd[shp_gpd.COUNTY == id_s[1]]\n",
    "gdf3 = shp_gpd[shp_gpd.COUNTY == id_s[2]]\n",
    "\n",
    "new_gpd = pd.concat([gdf1, gdf2, gdf3])\n",
    "\n",
    "#### convert everything to latitude and longitude in geometry\n",
    "####  \"EPSG:4326\" : CRS=WGS84 latitude-longitude projection\n",
    "new_gpd = new_gpd.to_crs('EPSG:4326')\n",
    "\n",
    "new_gpd['lon_centroid'] = new_gpd.centroid.x\n",
    "new_gpd['lat_centroid'] = new_gpd.centroid.y\n",
    "\n",
    "new_gpd"
   ]
  },
  {
   "cell_type": "markdown",
   "id": "6f912379-2fea-4125-8d6a-3cc288e11eb3",
   "metadata": {},
   "source": [
    "#### Trend of annual max Tmax map"
   ]
  },
  {
   "cell_type": "code",
   "execution_count": 5,
   "id": "2b6b5fc0-dfc8-4013-9ba8-66c6f624c250",
   "metadata": {},
   "outputs": [
    {
     "name": "stdout",
     "output_type": "stream",
     "text": [
      "Index(['Clackamas', 'Columbia', 'Multmomah', 'Washington'], dtype='object')\n",
      "trend [0.28495188 0.14275295 0.1650441 ]\n",
      "    ID  STFID COUNTY  TAPERSONS  TA1RACE  TAWHITE  TABLACK  TAAMERIND  \\\n",
      "2    1  41005    005     338391   330061   308852     2233       2416   \n",
      "25   1  41051    051     660486   633622   522825    37434       6785   \n",
      "33   1  41067    067     445342   431216   366007     5119       2913   \n",
      "\n",
      "    TAASIAN  TAHAWPAC  ...  TN5RACES  TN6RACES  ALLAFAM  ALLAMIND  ALLASIAN  \\\n",
      "2      8292       569  ...        18         0     3497      5256     10921   \n",
      "25    37638      2320  ...        35         0    44755     14701     45012   \n",
      "33    29752      1325  ...         6         1     7307      6183     35197   \n",
      "\n",
      "    ALLNHPI                                           geometry  lon_centroid  \\\n",
      "2      1348  POLYGON ((-122.63724 45.46112, -122.63650 45.4...   -122.221525   \n",
      "25     4419  POLYGON ((-122.85432 45.59182, -122.85670 45.5...   -122.415730   \n",
      "33     2876  POLYGON ((-122.78711 45.54843, -122.78481 45.5...   -123.098537   \n",
      "\n",
      "    lat_centroid      Tmax  \n",
      "2      45.188663  0.284952  \n",
      "25     45.546896  0.142753  \n",
      "33     45.560109  0.165044  \n",
      "\n",
      "[3 rows x 39 columns]\n"
     ]
    },
    {
     "data": {
      "image/png": "[encoded data removed]",
      "text/plain": [
       "<Figure size 800x500 with 1 Axes>"
      ]
     },
     "metadata": {},
     "output_type": "display_data"
    }
   ],
   "source": [
    "# Index(['date', 'year', 'season', 'Clackamas', 'Columbia', 'Multmomah','Washington', 'Yamhill']\n",
    "# 0-based index for Clackamas, Multmomah and Washington are:\n",
    "id_col = [3,5,6]\n",
    "print(df_tmax.columns[3:7])\n",
    "\n",
    "# get time-series of those locations\n",
    "df_max = df_tmax[[name_col[id_col[0]], name_col[id_col[1]],name_col[id_col[2]]]].groupby(lambda x: x.year).max()\n",
    "arr_2d = df_max.to_numpy() \n",
    "\n",
    "# treand in decade \n",
    "trend_1d = cal_trend_huc2_1d(arr_2d)*10\n",
    "print('trend',trend_1d)\n",
    "\n",
    "import mapclassify as mc\n",
    "### create a common scheme for trend plots\n",
    "arr_1d =np.linspace(0.1, 0.3, 11)\n",
    "scheme = mc.Quantiles(arr_1d, k = 4)\n",
    "\n",
    "fig, axs = plt.subplots(nrows=1, ncols=1,figsize=(8,5))\n",
    "new_gpd['Tmax'] = np.asarray(trend_1d)\n",
    "print(new_gpd)\n",
    "\n",
    "legend_labels=['0.143 C/decade','0.165 C/decade','', '0.285 C/decade']\n",
    "gplt.choropleth(new_gpd, hue='Tmax', scheme = scheme, cmap='bwr', legend=True,legend_labels=legend_labels, ax=axs)\n",
    "#axs.set_title(season_s[nn], fontsize=12)\n",
    "plt.tight_layout();\n",
    "plt.savefig('tmax_trend_map.pdf', bbox_inches='tight')"
   ]
  },
  {
   "cell_type": "markdown",
   "id": "e415bdfa-168d-4e1e-a0bf-99766570487b",
   "metadata": {},
   "source": [
    "#### Trend of annual number of days of frozen precip map  "
   ]
  },
  {
   "cell_type": "code",
   "execution_count": 6,
   "id": "53432d0a-ec07-4090-b2e0-22962806dc7f",
   "metadata": {},
   "outputs": [
    {
     "name": "stdout",
     "output_type": "stream",
     "text": [
      "trend [-4.04355401 -2.97560976 -3.43205575]\n"
     ]
    },
    {
     "name": "stderr",
     "output_type": "stream",
     "text": [
      "/glade/scratch/mingge/ipykernel_295627/334422453.py:7: SettingWithCopyWarning: \n",
      "A value is trying to be set on a copy of a slice from a DataFrame.\n",
      "Try using .loc[row_indexer,col_indexer] = value instead\n",
      "\n",
      "See the caveats in the documentation: https://pandas.pydata.org/pandas-docs/stable/user_guide/indexing.html#returning-a-view-versus-a-copy\n",
      "  df_new['Clackamas_Tmin'] = df_tmin['Clackamas'].values\n",
      "/glade/scratch/mingge/ipykernel_295627/334422453.py:8: SettingWithCopyWarning: \n",
      "A value is trying to be set on a copy of a slice from a DataFrame.\n",
      "Try using .loc[row_indexer,col_indexer] = value instead\n",
      "\n",
      "See the caveats in the documentation: https://pandas.pydata.org/pandas-docs/stable/user_guide/indexing.html#returning-a-view-versus-a-copy\n",
      "  df_new['Multmomah_Tmin'] = df_tmin['Multmomah'].values\n",
      "/glade/scratch/mingge/ipykernel_295627/334422453.py:9: SettingWithCopyWarning: \n",
      "A value is trying to be set on a copy of a slice from a DataFrame.\n",
      "Try using .loc[row_indexer,col_indexer] = value instead\n",
      "\n",
      "See the caveats in the documentation: https://pandas.pydata.org/pandas-docs/stable/user_guide/indexing.html#returning-a-view-versus-a-copy\n",
      "  df_new['Washington_Tmin'] = df_tmin['Washington'].values\n"
     ]
    },
    {
     "data": {
      "image/png": "[encoded data removed]",
      "text/plain": [
       "<Figure size 800x500 with 1 Axes>"
      ]
     },
     "metadata": {},
     "output_type": "display_data"
    }
   ],
   "source": [
    "# get time-series of those locations\n",
    "#df_min = df_tmin[[name_col[id_col[0]], name_col[id_col[1]],name_col[id_col[2]]]].groupby(lambda x: x.year).max()\n",
    "\n",
    "df_new = df_prec[[\"year\", \"Clackamas\", \"Multmomah\", \"Washington\"]]\n",
    "\n",
    "# add Tmin info\n",
    "df_new['Clackamas_Tmin'] = df_tmin['Clackamas'].values\n",
    "df_new['Multmomah_Tmin'] = df_tmin['Multmomah'].values\n",
    "df_new['Washington_Tmin'] = df_tmin['Washington'].values\n",
    "\n",
    "# Re-create a new array of date, now including all years\n",
    "years = list(range(1981,2022)) \n",
    "\n",
    "for nc in range(n_county):\n",
    "    name_p = name_col[id_col[nc]]\n",
    "    name_t = name_p + '_Tmin'\n",
    "    # pick rows of frozen precip: Prec >0 and Tmin <0\n",
    "    df_tmp = df_new.loc[(df_new[name_p] >0 ) & (df_new[name_t] < 0 )]  \n",
    "    # count # of days of prozen prec\n",
    "    dff = df_tmp[name_p].groupby(lambda x: x.year).agg('count') \n",
    "    # Reindex the count and fill empty values with zero (NaN by default)\n",
    "    dff = dff.reindex(years, fill_value=0)\n",
    "    #print(dff)\n",
    "    arr_2d[:,nc] = dff.values\n",
    "    \n",
    "# treand in decade \n",
    "trend_1d = cal_trend_huc2_1d(arr_2d)*10\n",
    "print('trend', trend_1d)\n",
    "\n",
    "import mapclassify as mc\n",
    "### create a common scheme for trend plots\n",
    "arr_1d =np.linspace(-4.1, -2.8, 11)\n",
    "scheme = mc.Quantiles(arr_1d, k = 4)\n",
    "\n",
    "fig, axs = plt.subplots(nrows=1, ncols=1,figsize=(8,5))\n",
    "new_gpd['FrozenPrec'] = np.asarray(trend_1d)\n",
    "#print(new_gpd)\n",
    "\n",
    "legend_labels=['-4.044 day/decade','','-3.432 day/decade','-2.9756 day/decade']\n",
    "gplt.choropleth(new_gpd, hue='FrozenPrec', scheme = scheme, cmap='bwr', legend=True,\n",
    "                legend_labels=legend_labels,ax=axs)\n",
    "#axs.set_title(season_s[nn], fontsize=12)\n",
    "plt.tight_layout();\n",
    "plt.savefig('precFrozon_trend_map.pdf', bbox_inches='tight')"
   ]
  },
  {
   "cell_type": "code",
   "execution_count": 7,
   "id": "1764a31e-a0ae-47e5-9d80-8fb1652c719e",
   "metadata": {},
   "outputs": [
    {
     "data": {
      "text/plain": [
       "array([-3.775, -3.45 , -3.125, -2.8  ])"
      ]
     },
     "execution_count": 7,
     "metadata": {},
     "output_type": "execute_result"
    }
   ],
   "source": [
    "scheme.bins "
   ]
  },
  {
   "cell_type": "code",
   "execution_count": 8,
   "id": "764aee11-68d6-43a8-94b9-6778b0e0de8e",
   "metadata": {},
   "outputs": [
    {
     "data": {
      "text/plain": [
       "Quantiles             \n",
       "\n",
       "   Interval      Count\n",
       "----------------------\n",
       "[-4.10, -3.77] |     3\n",
       "(-3.77, -3.45] |     3\n",
       "(-3.45, -3.12] |     2\n",
       "(-3.12, -2.80] |     3"
      ]
     },
     "execution_count": 8,
     "metadata": {},
     "output_type": "execute_result"
    }
   ],
   "source": [
    "scheme"
   ]
  },
  {
   "cell_type": "code",
   "execution_count": null,
   "id": "01ab8e4e-893a-4b0c-9734-cd49263d847c",
   "metadata": {},
   "outputs": [],
   "source": []
  }
 ],
 "metadata": {
  "kernelspec": {
   "display_name": "Python [conda env:miniconda3-casper_2020]",
   "language": "python",
   "name": "conda-env-miniconda3-casper_2020-py"
  },
  "language_info": {
   "codemirror_mode": {
    "name": "ipython",
    "version": 3
   },
   "file_extension": ".py",
   "mimetype": "text/x-python",
   "name": "python",
   "nbconvert_exporter": "python",
   "pygments_lexer": "ipython3",
   "version": "3.9.6"
  }
 },
 "nbformat": 4,
 "nbformat_minor": 5
}
